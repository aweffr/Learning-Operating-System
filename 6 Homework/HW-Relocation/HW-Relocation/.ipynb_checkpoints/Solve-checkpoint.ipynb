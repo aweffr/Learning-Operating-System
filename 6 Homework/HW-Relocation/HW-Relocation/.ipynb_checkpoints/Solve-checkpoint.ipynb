{
 "cells": [
  {
   "cell_type": "markdown",
   "metadata": {},
   "source": [
    "(py27) C:\\Users\\aweff\\Documents\\ComputerScience\\0.Operating System - 3 Easy Pieces\\6 Homework\\HW-Relocation\\HW-Relocation>python relocation.py -s 0\n",
    "\n",
    "ARG seed 0\n",
    "ARG address space size 1k\n",
    "ARG phys mem size 16k\n",
    "\n",
    "Base-and-Bounds register information:\n",
    "\n",
    "  Base   : 0x00003082 (decimal 12418)\n",
    "  Limit  : 472\n",
    "\n",
    "Virtual Address Trace\n",
    "-\n",
    "- VA  0: 0x000001ae (decimal:  430) --> PA or segmentation violation?\n",
    "- VA  1: 0x00000109 (decimal:  265) --> PA or segmentation violation?\n",
    "- VA  2: 0x0000020b (decimal:  523) --> PA or segmentation violation?\n",
    "- VA  3: 0x0000019e (decimal:  414) --> PA or segmentation violation?\n",
    "- VA  4: 0x00000322 (decimal:  802) --> PA or segmentation violation?\n",
    "\n",
    "For each virtual address, either write down the physical address it translates to\n",
    "OR write down that it is an out-of-bounds address (a segmentation violation). For\n",
    "this problem, you should assume a simple virtual address space of a given size."
   ]
  },
  {
   "cell_type": "code",
   "execution_count": null,
   "metadata": {
    "collapsed": true
   },
   "outputs": [],
   "source": []
  }
 ],
 "metadata": {
  "kernelspec": {
   "display_name": "Python 3",
   "language": "python",
   "name": "python3"
  },
  "language_info": {
   "codemirror_mode": {
    "name": "ipython",
    "version": 3
   },
   "file_extension": ".py",
   "mimetype": "text/x-python",
   "name": "python",
   "nbconvert_exporter": "python",
   "pygments_lexer": "ipython3",
   "version": "3.6.1"
  }
 },
 "nbformat": 4,
 "nbformat_minor": 2
}
